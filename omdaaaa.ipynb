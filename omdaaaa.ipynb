{
 "cells": [
  {
   "cell_type": "code",
   "execution_count": 6,
   "id": "75dd11f7",
   "metadata": {},
   "outputs": [
    {
     "data": {
      "text/plain": [
       "bool"
      ]
     },
     "execution_count": 6,
     "metadata": {},
     "output_type": "execute_result"
    }
   ],
   "source": [
    "t = True\n",
    "type (t)"
   ]
  },
  {
   "cell_type": "code",
   "execution_count": 7,
   "id": "7926dd29",
   "metadata": {},
   "outputs": [
    {
     "data": {
      "text/plain": [
       "float"
      ]
     },
     "execution_count": 7,
     "metadata": {},
     "output_type": "execute_result"
    }
   ],
   "source": [
    "m = 215.5\n",
    "type (m)"
   ]
  },
  {
   "cell_type": "code",
   "execution_count": 8,
   "id": "32b83899",
   "metadata": {},
   "outputs": [
    {
     "data": {
      "text/plain": [
       "215.5"
      ]
     },
     "execution_count": 8,
     "metadata": {},
     "output_type": "execute_result"
    }
   ],
   "source": [
    "m"
   ]
  },
  {
   "cell_type": "code",
   "execution_count": 9,
   "id": "12a65135",
   "metadata": {},
   "outputs": [
    {
     "data": {
      "text/plain": [
       "True"
      ]
     },
     "execution_count": 9,
     "metadata": {},
     "output_type": "execute_result"
    }
   ],
   "source": [
    "t"
   ]
  },
  {
   "cell_type": "code",
   "execution_count": 10,
   "id": "3299db89",
   "metadata": {},
   "outputs": [
    {
     "name": "stdout",
     "output_type": "stream",
     "text": [
      "<class 'int'>\n",
      "6\n",
      "215.5\n"
     ]
    }
   ],
   "source": [
    "g = 6\n",
    "print(type(g))\n",
    "print(g)\n",
    "print(m)"
   ]
  },
  {
   "cell_type": "code",
   "execution_count": 11,
   "id": "4211c30c",
   "metadata": {},
   "outputs": [],
   "source": [
    "mohamed = 280 - 65"
   ]
  },
  {
   "cell_type": "code",
   "execution_count": 12,
   "id": "6d716045",
   "metadata": {},
   "outputs": [],
   "source": [
    "s = 280 - 70"
   ]
  },
  {
   "cell_type": "code",
   "execution_count": 13,
   "id": "0125fae0",
   "metadata": {},
   "outputs": [
    {
     "name": "stdout",
     "output_type": "stream",
     "text": [
      "215 210\n"
     ]
    }
   ],
   "source": [
    "print(mohamed , s)"
   ]
  },
  {
   "cell_type": "code",
   "execution_count": 14,
   "id": "86eca089",
   "metadata": {},
   "outputs": [
    {
     "data": {
      "text/plain": [
       "215"
      ]
     },
     "execution_count": 14,
     "metadata": {},
     "output_type": "execute_result"
    }
   ],
   "source": [
    "mohamed"
   ]
  },
  {
   "cell_type": "code",
   "execution_count": null,
   "id": "e102cf65",
   "metadata": {},
   "outputs": [],
   "source": []
  },
  {
   "cell_type": "code",
   "execution_count": 15,
   "id": "cc94f1e9",
   "metadata": {},
   "outputs": [
    {
     "data": {
      "text/plain": [
       "['__abs__',\n",
       " '__add__',\n",
       " '__and__',\n",
       " '__bool__',\n",
       " '__ceil__',\n",
       " '__class__',\n",
       " '__delattr__',\n",
       " '__dir__',\n",
       " '__divmod__',\n",
       " '__doc__',\n",
       " '__eq__',\n",
       " '__float__',\n",
       " '__floor__',\n",
       " '__floordiv__',\n",
       " '__format__',\n",
       " '__ge__',\n",
       " '__getattribute__',\n",
       " '__getnewargs__',\n",
       " '__gt__',\n",
       " '__hash__',\n",
       " '__index__',\n",
       " '__init__',\n",
       " '__init_subclass__',\n",
       " '__int__',\n",
       " '__invert__',\n",
       " '__le__',\n",
       " '__lshift__',\n",
       " '__lt__',\n",
       " '__mod__',\n",
       " '__mul__',\n",
       " '__ne__',\n",
       " '__neg__',\n",
       " '__new__',\n",
       " '__or__',\n",
       " '__pos__',\n",
       " '__pow__',\n",
       " '__radd__',\n",
       " '__rand__',\n",
       " '__rdivmod__',\n",
       " '__reduce__',\n",
       " '__reduce_ex__',\n",
       " '__repr__',\n",
       " '__rfloordiv__',\n",
       " '__rlshift__',\n",
       " '__rmod__',\n",
       " '__rmul__',\n",
       " '__ror__',\n",
       " '__round__',\n",
       " '__rpow__',\n",
       " '__rrshift__',\n",
       " '__rshift__',\n",
       " '__rsub__',\n",
       " '__rtruediv__',\n",
       " '__rxor__',\n",
       " '__setattr__',\n",
       " '__sizeof__',\n",
       " '__str__',\n",
       " '__sub__',\n",
       " '__subclasshook__',\n",
       " '__truediv__',\n",
       " '__trunc__',\n",
       " '__xor__',\n",
       " 'as_integer_ratio',\n",
       " 'bit_count',\n",
       " 'bit_length',\n",
       " 'conjugate',\n",
       " 'denominator',\n",
       " 'from_bytes',\n",
       " 'imag',\n",
       " 'numerator',\n",
       " 'real',\n",
       " 'to_bytes']"
      ]
     },
     "execution_count": 15,
     "metadata": {},
     "output_type": "execute_result"
    }
   ],
   "source": [
    "dir(t)"
   ]
  },
  {
   "cell_type": "code",
   "execution_count": 16,
   "id": "32b25342",
   "metadata": {},
   "outputs": [
    {
     "name": "stdout",
     "output_type": "stream",
     "text": [
      "<class 'float'>\n",
      "-23.5\n"
     ]
    }
   ],
   "source": [
    "f = -23.5\n",
    "print(type(f))\n",
    "print(f)"
   ]
  },
  {
   "cell_type": "code",
   "execution_count": 17,
   "id": "46b98542",
   "metadata": {
    "scrolled": false
   },
   "outputs": [
    {
     "data": {
      "text/plain": [
       "23.5"
      ]
     },
     "execution_count": 17,
     "metadata": {},
     "output_type": "execute_result"
    }
   ],
   "source": [
    "f.__abs__()"
   ]
  },
  {
   "cell_type": "code",
   "execution_count": 18,
   "id": "f2a41e95",
   "metadata": {},
   "outputs": [
    {
     "data": {
      "text/plain": [
       "-23"
      ]
     },
     "execution_count": 18,
     "metadata": {},
     "output_type": "execute_result"
    }
   ],
   "source": [
    "int(f)"
   ]
  },
  {
   "cell_type": "code",
   "execution_count": 19,
   "id": "9ee846b2",
   "metadata": {},
   "outputs": [],
   "source": [
    "f = int(f)"
   ]
  },
  {
   "cell_type": "code",
   "execution_count": 20,
   "id": "f36ea571",
   "metadata": {},
   "outputs": [
    {
     "name": "stdout",
     "output_type": "stream",
     "text": [
      "-23\n"
     ]
    }
   ],
   "source": [
    "print(f)"
   ]
  },
  {
   "cell_type": "code",
   "execution_count": 21,
   "id": "0355f885",
   "metadata": {},
   "outputs": [],
   "source": [
    "s = 10\n",
    "y = 5"
   ]
  },
  {
   "cell_type": "code",
   "execution_count": 22,
   "id": "1c9dc332",
   "metadata": {},
   "outputs": [
    {
     "data": {
      "text/plain": [
       "100000"
      ]
     },
     "execution_count": 22,
     "metadata": {},
     "output_type": "execute_result"
    }
   ],
   "source": [
    "pow(s ,y)"
   ]
  },
  {
   "cell_type": "code",
   "execution_count": 23,
   "id": "e36c1642",
   "metadata": {},
   "outputs": [
    {
     "data": {
      "text/plain": [
       "(2, 0)"
      ]
     },
     "execution_count": 23,
     "metadata": {},
     "output_type": "execute_result"
    }
   ],
   "source": [
    "divmod(s , y)"
   ]
  },
  {
   "cell_type": "code",
   "execution_count": 24,
   "id": "52c62afc",
   "metadata": {},
   "outputs": [
    {
     "data": {
      "text/plain": [
       "9765625"
      ]
     },
     "execution_count": 24,
     "metadata": {},
     "output_type": "execute_result"
    }
   ],
   "source": [
    "y ** s"
   ]
  },
  {
   "cell_type": "code",
   "execution_count": 25,
   "id": "4be5544d",
   "metadata": {},
   "outputs": [
    {
     "data": {
      "text/plain": [
       "'welcome to the club of the century'"
      ]
     },
     "execution_count": 25,
     "metadata": {},
     "output_type": "execute_result"
    }
   ],
   "source": [
    "nam1 = \"welcome to\"\n",
    "nam2 = \" the club\"\n",
    "nam3 = \" of the century\"\n",
    "nam = nam1 + nam2 + nam3\n",
    "nam"
   ]
  },
  {
   "cell_type": "code",
   "execution_count": 26,
   "id": "5e84665a",
   "metadata": {},
   "outputs": [
    {
     "data": {
      "text/plain": [
       "34"
      ]
     },
     "execution_count": 26,
     "metadata": {},
     "output_type": "execute_result"
    }
   ],
   "source": [
    "len(nam)"
   ]
  },
  {
   "cell_type": "code",
   "execution_count": 27,
   "id": "641500ae",
   "metadata": {},
   "outputs": [],
   "source": [
    "n = 50\n",
    "b = 70"
   ]
  },
  {
   "cell_type": "code",
   "execution_count": 28,
   "id": "72131ff9",
   "metadata": {},
   "outputs": [
    {
     "data": {
      "text/plain": [
       "True"
      ]
     },
     "execution_count": 28,
     "metadata": {},
     "output_type": "execute_result"
    }
   ],
   "source": [
    "b > n"
   ]
  },
  {
   "cell_type": "code",
   "execution_count": 29,
   "id": "c838602d",
   "metadata": {},
   "outputs": [
    {
     "data": {
      "text/plain": [
       "False"
      ]
     },
     "execution_count": 29,
     "metadata": {},
     "output_type": "execute_result"
    }
   ],
   "source": [
    "n > b"
   ]
  },
  {
   "cell_type": "code",
   "execution_count": 30,
   "id": "631afc14",
   "metadata": {},
   "outputs": [
    {
     "data": {
      "text/plain": [
       "True"
      ]
     },
     "execution_count": 30,
     "metadata": {},
     "output_type": "execute_result"
    }
   ],
   "source": [
    "b >= n"
   ]
  },
  {
   "cell_type": "code",
   "execution_count": 31,
   "id": "8a5c9b97",
   "metadata": {},
   "outputs": [
    {
     "data": {
      "text/plain": [
       "False"
      ]
     },
     "execution_count": 31,
     "metadata": {},
     "output_type": "execute_result"
    }
   ],
   "source": [
    "n >= b"
   ]
  },
  {
   "cell_type": "code",
   "execution_count": 32,
   "id": "758dcade",
   "metadata": {},
   "outputs": [],
   "source": [
    "p = 90\n",
    "o = 6\n",
    "m = 10"
   ]
  },
  {
   "cell_type": "code",
   "execution_count": 33,
   "id": "fe3f9c62",
   "metadata": {},
   "outputs": [
    {
     "name": "stdout",
     "output_type": "stream",
     "text": [
      "Zamalek\n"
     ]
    }
   ],
   "source": [
    "if o >  10 :\n",
    "    print(\"real madrid\")\n",
    "elif o <10 :\n",
    "    print(\"Zamalek\")"
   ]
  },
  {
   "cell_type": "code",
   "execution_count": 34,
   "id": "62a74cb4",
   "metadata": {},
   "outputs": [
    {
     "name": "stdout",
     "output_type": "stream",
     "text": [
      "n\n"
     ]
    }
   ],
   "source": [
    "if o > 6 :\n",
    "    print(\"p\")\n",
    "elif (o == 7) :\n",
    "    print(\"m\")\n",
    "else :\n",
    "    print(\"n\")"
   ]
  },
  {
   "cell_type": "code",
   "execution_count": 35,
   "id": "9543c9a6",
   "metadata": {},
   "outputs": [
    {
     "name": "stdout",
     "output_type": "stream",
     "text": [
      "w\n",
      "e\n",
      "l\n",
      "c\n",
      "o\n",
      "m\n",
      "e\n",
      " \n",
      "t\n",
      "o\n",
      " \n",
      "t\n",
      "h\n",
      "e\n",
      " \n",
      "c\n",
      "l\n",
      "u\n",
      "b\n",
      " \n",
      "o\n",
      "f\n",
      " \n",
      "t\n",
      "h\n",
      "e\n",
      " \n",
      "c\n",
      "e\n",
      "n\n",
      "t\n",
      "u\n",
      "r\n",
      "y\n"
     ]
    }
   ],
   "source": [
    "for i in (nam) :\n",
    "    print(i)"
   ]
  },
  {
   "cell_type": "code",
   "execution_count": null,
   "id": "9da13979",
   "metadata": {},
   "outputs": [],
   "source": []
  },
  {
   "cell_type": "code",
   "execution_count": null,
   "id": "7d1cd5fa",
   "metadata": {},
   "outputs": [],
   "source": []
  },
  {
   "cell_type": "code",
   "execution_count": null,
   "id": "8ccbec88",
   "metadata": {},
   "outputs": [],
   "source": []
  },
  {
   "cell_type": "code",
   "execution_count": null,
   "id": "11946c75",
   "metadata": {},
   "outputs": [],
   "source": []
  },
  {
   "cell_type": "code",
   "execution_count": null,
   "id": "ddf49709",
   "metadata": {},
   "outputs": [],
   "source": []
  }
 ],
 "metadata": {
  "kernelspec": {
   "display_name": "Python 3 (ipykernel)",
   "language": "python",
   "name": "python3"
  },
  "language_info": {
   "codemirror_mode": {
    "name": "ipython",
    "version": 3
   },
   "file_extension": ".py",
   "mimetype": "text/x-python",
   "name": "python",
   "nbconvert_exporter": "python",
   "pygments_lexer": "ipython3",
   "version": "3.10.9"
  }
 },
 "nbformat": 4,
 "nbformat_minor": 5
}
